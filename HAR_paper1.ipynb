{
  "nbformat": 4,
  "nbformat_minor": 0,
  "metadata": {
    "colab": {
      "name": "HAR_paper1.ipynb",
      "provenance": [],
      "collapsed_sections": [],
      "include_colab_link": true
    },
    "kernelspec": {
      "name": "python3",
      "display_name": "Python 3"
    },
    "accelerator": "GPU"
  },
  "cells": [
    {
      "cell_type": "markdown",
      "metadata": {
        "id": "view-in-github",
        "colab_type": "text"
      },
      "source": [
        "<a href=\"https://colab.research.google.com/github/Niloy28/NurseActivityRecognition/blob/master/HAR_paper1.ipynb\" target=\"_parent\"><img src=\"https://colab.research.google.com/assets/colab-badge.svg\" alt=\"Open In Colab\"/></a>"
      ]
    },
    {
      "cell_type": "markdown",
      "metadata": {
        "id": "G49TC_rhGKZ2",
        "colab_type": "text"
      },
      "source": [
        "## Copy dataset files from Google Drive"
      ]
    },
    {
      "cell_type": "code",
      "metadata": {
        "id": "AkBJOXt0-F5A",
        "colab_type": "code",
        "colab": {}
      },
      "source": [
        "from google.colab import drive\n",
        "drive.mount('/content/drive')"
      ],
      "execution_count": null,
      "outputs": []
    },
    {
      "cell_type": "code",
      "metadata": {
        "id": "_0U_4N_u-Dbd",
        "colab_type": "code",
        "colab": {},
        "cellView": "form"
      },
      "source": [
        "#@title Copy data files\n",
        "data_file_location = \"/content/drive/My Drive/nurse care data/non ambiguous processed\" #@param {type:\"string\"}\n",
        "dest_path = \"/content/\" #@param {type:\"string\"}\n",
        "\n",
        "!cp -rv \"$data_file_location\" \"$dest_path\"\n",
        "!rm -rf /content/sample_data"
      ],
      "execution_count": null,
      "outputs": []
    },
    {
      "cell_type": "markdown",
      "metadata": {
        "id": "N33EjWItb5KT",
        "colab_type": "text"
      },
      "source": [
        "# Importing dependencies"
      ]
    },
    {
      "cell_type": "code",
      "metadata": {
        "id": "NNS8DH2Wbnhx",
        "colab_type": "code",
        "colab": {}
      },
      "source": [
        "import numpy as np\n",
        "import matplotlib.pyplot as plt\n",
        "import math\n",
        "import csv\n",
        "import array\n",
        "from sklearn.preprocessing import MinMaxScaler\n",
        "import pandas as pd\n",
        "from numpy import savetxt\n",
        "from sklearn.preprocessing import StandardScaler\n",
        "from collections import Counter\n",
        "from sklearn.model_selection import train_test_split\n",
        "import tensorflow as tf\n",
        "import scipy.stats as stats\n",
        "from tensorflow.keras import Sequential\n",
        "from tensorflow.keras.layers import Flatten, Dense, Dropout, BatchNormalization\n",
        "from tensorflow.keras.layers import Conv2D, MaxPool2D\n",
        "from tensorflow.keras.optimizers import Adam\n",
        "from math import sqrt\n",
        "import math"
      ],
      "execution_count": 4,
      "outputs": []
    },
    {
      "cell_type": "markdown",
      "metadata": {
        "id": "HOJNeiAXb_dW",
        "colab_type": "text"
      },
      "source": [
        "# Import dataset"
      ]
    },
    {
      "cell_type": "code",
      "metadata": {
        "id": "R0Wo5uGT_T3u",
        "colab_type": "code",
        "colab": {
          "base_uri": "https://localhost:8080/",
          "height": 136
        },
        "cellView": "form",
        "outputId": "9e164000-33aa-4919-dbc2-ce77179f0980"
      },
      "source": [
        "#@title Load datasets from folder\n",
        "#@markdown Outputs a list of all csv files in folder into <i> data_list </i>\n",
        "\n",
        "folder_path = \"/content/non ambiguous processed\" #@param {type : \"string\"}\n",
        "\n",
        "import os\n",
        "\n",
        "data_files = os.listdir(folder_path)\n",
        "data_list = []\n",
        "\n",
        "for data_file in data_files:\n",
        "    full_file_name = os.path.join(folder_path, data_file)\n",
        "\n",
        "    data_list.append(pd.read_csv(full_file_name))\n",
        "    print(f\"{full_file_name} read and appended.\")"
      ],
      "execution_count": 5,
      "outputs": [
        {
          "output_type": "stream",
          "text": [
            "/content/non ambiguous processed/user04_corrected.csv read and appended.\n",
            "/content/non ambiguous processed/user18_corrected.csv read and appended.\n",
            "/content/non ambiguous processed/user07_corrected.csv read and appended.\n",
            "/content/non ambiguous processed/user38_corrected.csv read and appended.\n",
            "/content/non ambiguous processed/user51_corrected.csv read and appended.\n",
            "/content/non ambiguous processed/lab_corrected.csv read and appended.\n",
            "/content/non ambiguous processed/user08_corrected.csv read and appended.\n"
          ],
          "name": "stdout"
        }
      ]
    },
    {
      "cell_type": "code",
      "metadata": {
        "id": "Ud02THrNcO1x",
        "colab_type": "code",
        "colab": {}
      },
      "source": [
        "dataset = pd.concat(data_list, ignore_index = True)"
      ],
      "execution_count": 6,
      "outputs": []
    },
    {
      "cell_type": "markdown",
      "metadata": {
        "id": "zSz4Lhp6cXB1",
        "colab_type": "text"
      },
      "source": [
        "# Data processing"
      ]
    },
    {
      "cell_type": "code",
      "metadata": {
        "id": "CC861ZsEcRFa",
        "colab_type": "code",
        "colab": {}
      },
      "source": [
        "X = dataset.iloc[:, [0, 1, 2]].values\n",
        "Y = dataset.iloc[:, 3].values\n",
        "Y = Y - 1"
      ],
      "execution_count": 7,
      "outputs": []
    },
    {
      "cell_type": "code",
      "metadata": {
        "id": "CnIMIJYGccyQ",
        "colab_type": "code",
        "colab": {}
      },
      "source": [
        "low_pass_filter = np.zeros((X.shape[0], X.shape[1]))\n",
        "high_pass_filter = np.zeros((X.shape[0], X.shape[1]))\n",
        "\n",
        "for i in range(len(X)):\n",
        "    for j in range(X.shape[1]):\n",
        "        if i == 0:\n",
        "            low_pass_filter[i][j] = X[i][j]\n",
        "            high_pass_filter[i][j] = X[i][j]\n",
        "        else:\n",
        "            low_pass_filter[i][j] = 0.8*X[i-1][j] + (1-0.8)*X[i][j]\n",
        "            high_pass_filter[i][j] = X[i][j] - low_pass_filter[i][j]"
      ],
      "execution_count": 8,
      "outputs": []
    },
    {
      "cell_type": "markdown",
      "metadata": {
        "id": "r7_spda3cfP-",
        "colab_type": "text"
      },
      "source": [
        "## Frame preparation"
      ]
    },
    {
      "cell_type": "code",
      "metadata": {
        "id": "P7sKaBPrch6Q",
        "colab_type": "code",
        "colab": {}
      },
      "source": [
        "Fs = 20\n",
        "frame_size = Fs*4 # 80\n",
        "hop_size =  40\n",
        "\n",
        "def get_frames(df, frame_size, hop_size,label_data):\n",
        "\n",
        "    N_FEATURES = 3\n",
        "\n",
        "    frames = []\n",
        "    labels = []\n",
        "    for i in range(0, len(df) - frame_size, hop_size):\n",
        "        value = df[i: i + frame_size, :]\n",
        "        #y = df[i: i + frame_size, 1]\n",
        "        #z = df[i: i + frame_size, 2]\n",
        "\n",
        "        # Retrieve the most often used label in this segment\n",
        "        label = stats.mode(label_data[i: i + frame_size])[0][0]\n",
        "        frames.append([value])\n",
        "        labels.append(label)\n",
        "\n",
        "    # Bring the segments into a better shape\n",
        "    frames = np.asarray(frames).reshape(-1, frame_size, N_FEATURES)\n",
        "    labels = np.asarray(labels)\n",
        "\n",
        "    return frames, labels\n",
        "\n",
        "row_frame, row_label = get_frames(X, frame_size, hop_size, Y)\n",
        "low_pass_frame, low_pass_label = get_frames(low_pass_filter, frame_size, hop_size, Y)"
      ],
      "execution_count": 9,
      "outputs": []
    },
    {
      "cell_type": "markdown",
      "metadata": {
        "id": "oJVhHrlLcm6M",
        "colab_type": "text"
      },
      "source": [
        "## Feature calculation"
      ]
    },
    {
      "cell_type": "code",
      "metadata": {
        "id": "Pgz3O30-cpbr",
        "colab_type": "code",
        "colab": {}
      },
      "source": [
        "mean = np.mean(low_pass_frame, axis = 1)  # mean along (x,y,z) axis\n",
        "std = np.std(low_pass_frame, axis = 1)  # standard deviation along (x,y,z) axis"
      ],
      "execution_count": 10,
      "outputs": []
    },
    {
      "cell_type": "code",
      "metadata": {
        "id": "fBJUp2jhcrmt",
        "colab_type": "code",
        "colab": {}
      },
      "source": [
        "rms_x = []  # root mean square along x axis\n",
        "value = 0\n",
        "for i in range(low_pass_frame.shape[0]):\n",
        "    for j in range(low_pass_frame.shape[1]):\n",
        "        value = value + (low_pass_frame[i][j][0] **2)\n",
        "        value = value / (low_pass_frame.shape[1])\n",
        "    value = sqrt(value)\n",
        "    rms_x.append(value)\n",
        "    value = 0\n",
        "\n",
        "rms_y = []  # root mean square along y axis\n",
        "for i in range(low_pass_frame.shape[0]):\n",
        "    for j in range(low_pass_frame.shape[1]):\n",
        "        value = value + (low_pass_frame[i][j][1] **2)\n",
        "        value = value / (low_pass_frame.shape[1])\n",
        "    value = sqrt(value)\n",
        "    rms_y.append(value)\n",
        "    value = 0\n",
        "\n",
        "rms_z = []  # root mean square z axis\n",
        "for i in range(low_pass_frame.shape[0]):\n",
        "    for j in range(low_pass_frame.shape[1]):\n",
        "        value = value + (low_pass_frame[i][j][2] **2)\n",
        "        value = value / (low_pass_frame.shape[1])\n",
        "    value = sqrt(value)\n",
        "    rms_z.append(value)\n",
        "    value = 0\n"
      ],
      "execution_count": 11,
      "outputs": []
    },
    {
      "cell_type": "code",
      "metadata": {
        "id": "XyvYOeKRcugH",
        "colab_type": "code",
        "colab": {}
      },
      "source": [
        "lengths = []  # length of the accelerometer vector\n",
        "length = 0\n",
        "nx, ny, nz = row_frame.shape[0], row_frame.shape[1], row_frame.shape[2]\n",
        "acc_vector = np.reshape(row_frame,(nx, ny*nz))\n",
        "\n",
        "for i in range(acc_vector.shape[0]):\n",
        "    count = 0\n",
        "    for j in range(acc_vector.shape[1]):\n",
        "        length += acc_vector[i][j]**2\n",
        "        count += 1\n",
        "\n",
        "        if count == 3:\n",
        "            length = sqrt(length)\n",
        "            lengths.append(length)\n",
        "            length = 0\n",
        "            count = 0"
      ],
      "execution_count": 12,
      "outputs": []
    },
    {
      "cell_type": "code",
      "metadata": {
        "id": "7Lrf1Tsq4PDz",
        "colab_type": "code",
        "colab": {}
      },
      "source": [
        "avc = []  # avc feature\n",
        "\n",
        "polling_rate = 4 #Hz\n",
        "\n",
        "for i in range(0, len(lengths), frame_size):\n",
        "    value = 0\n",
        "    iterable = lengths[i:i+frame_size]\n",
        "    for j in range(len(iterable) - 1, 1, -1):\n",
        "        value += abs(iterable[j] - iterable[j - 1])\n",
        "    \n",
        "    value = value / (frame_size / polling_rate)\n",
        "    avc.append(value)"
      ],
      "execution_count": 13,
      "outputs": []
    },
    {
      "cell_type": "code",
      "metadata": {
        "id": "TlYVbvm7nEwd",
        "colab_type": "code",
        "colab": {}
      },
      "source": [
        "max_min = []\n",
        "\n",
        "for i in range(0, len(lengths), frame_size):\n",
        "    iterable = lengths[i:i+frame_size]\n",
        "\n",
        "    max_min.append(max(iterable) - min(iterable))"
      ],
      "execution_count": 14,
      "outputs": []
    },
    {
      "cell_type": "code",
      "metadata": {
        "id": "kE0RRlc1czbc",
        "colab_type": "code",
        "colab": {}
      },
      "source": [
        "angle = np.zeros((low_pass_frame.shape[0],low_pass_frame.shape[1],low_pass_frame.shape[2]))  # inclenation angle\n",
        "angles = []\n",
        "length = 0\n",
        "for i in range(angle.shape[0]):\n",
        "    for j in range(angle.shape[1]):\n",
        "        length = low_pass_frame[i,j,0]**2 + low_pass_frame[i,j,1]**2 + low_pass_frame[i,j,2]**2\n",
        "        length = sqrt(length)\n",
        "        if length == 0:\n",
        "            print(\"length is zero in index row= \",i,\"column= \",j)\n",
        "        else:\n",
        "            angle_x = math.acos(low_pass_frame[i,j,0]/length)\n",
        "            angle_y = math.acos(low_pass_frame[i,j,1]/length)\n",
        "            angle_z = math.acos(low_pass_frame[i,j,2]/length)\n",
        "            angle[i][j][0] = angle_x\n",
        "            angle[i][j][1] = angle_y\n",
        "            angle[i][j][2] = angle_z\n",
        "nx, ny, nz = angle.shape\n",
        "angle = np.reshape(angle,(nx,ny*nz))"
      ],
      "execution_count": 15,
      "outputs": []
    },
    {
      "cell_type": "code",
      "metadata": {
        "id": "fDXdatd3c4D7",
        "colab_type": "code",
        "colab": {}
      },
      "source": [
        "input_vector = np.zeros((row_frame.shape[0], angle.shape[1] + 11))  # input vector for the algorithm\n",
        "for i in range(input_vector.shape[0]):\n",
        "    input_vector[i][0] = mean[i][0]\n",
        "    input_vector[i][1] = mean[i][1]\n",
        "    input_vector[i][2] = mean[i][2] \n",
        "    input_vector[i][3] = std[i][0]\n",
        "    input_vector[i][4] = std[i][1]\n",
        "    input_vector[i][5] = std[i][2]\n",
        "    input_vector[i][6] = rms_x[i]\n",
        "    input_vector[i][7] = rms_y[i]\n",
        "    input_vector[i][8] = rms_z[i]\n",
        "    input_vector[i][9] = max_min[i]\n",
        "    input_vector[i][10] = avc[i]\n",
        "\n",
        "for i in range(angle.shape[0]):\n",
        "    for j in range(angle.shape[1]):\n",
        "        input_vector[i][j+11] = angle[i][j]\n"
      ],
      "execution_count": 16,
      "outputs": []
    },
    {
      "cell_type": "code",
      "metadata": {
        "id": "OFAKjw8hc6FL",
        "colab_type": "code",
        "colab": {}
      },
      "source": [
        "label = row_label[:]"
      ],
      "execution_count": 17,
      "outputs": []
    },
    {
      "cell_type": "markdown",
      "metadata": {
        "id": "EqTUFREvc9OB",
        "colab_type": "text"
      },
      "source": [
        "# Feature scaling"
      ]
    },
    {
      "cell_type": "code",
      "metadata": {
        "id": "5I6Jq-_7c6-v",
        "colab_type": "code",
        "colab": {}
      },
      "source": [
        "sc = StandardScaler()\n",
        "input_vector = sc.fit_transform(input_vector)"
      ],
      "execution_count": 18,
      "outputs": []
    },
    {
      "cell_type": "markdown",
      "metadata": {
        "id": "Wd4m3NyWdAd1",
        "colab_type": "text"
      },
      "source": [
        "# Train test split"
      ]
    },
    {
      "cell_type": "code",
      "metadata": {
        "id": "XGN3mlfBdDes",
        "colab_type": "code",
        "colab": {}
      },
      "source": [
        "X_train, X_val, y_train, y_val = train_test_split(input_vector, label, test_size = 0.2, random_state = 0, stratify = label)"
      ],
      "execution_count": 19,
      "outputs": []
    },
    {
      "cell_type": "markdown",
      "metadata": {
        "id": "L5JsqP55dJuV",
        "colab_type": "text"
      },
      "source": [
        "# Algorithm"
      ]
    },
    {
      "cell_type": "markdown",
      "metadata": {
        "id": "wKyO6F9kdMvl",
        "colab_type": "text"
      },
      "source": [
        "## Random forest"
      ]
    },
    {
      "cell_type": "code",
      "metadata": {
        "id": "267z_4Y7dIwz",
        "colab_type": "code",
        "colab": {
          "base_uri": "https://localhost:8080/",
          "height": 153
        },
        "outputId": "5bffd14a-591f-4b11-dc3b-105d8bec8854"
      },
      "source": [
        "from sklearn.ensemble import RandomForestClassifier\n",
        "classifier = RandomForestClassifier(n_estimators = 200, criterion = 'entropy', random_state = 0)\n",
        "classifier.fit(X_train, y_train)"
      ],
      "execution_count": 20,
      "outputs": [
        {
          "output_type": "execute_result",
          "data": {
            "text/plain": [
              "RandomForestClassifier(bootstrap=True, ccp_alpha=0.0, class_weight=None,\n",
              "                       criterion='entropy', max_depth=None, max_features='auto',\n",
              "                       max_leaf_nodes=None, max_samples=None,\n",
              "                       min_impurity_decrease=0.0, min_impurity_split=None,\n",
              "                       min_samples_leaf=1, min_samples_split=2,\n",
              "                       min_weight_fraction_leaf=0.0, n_estimators=200,\n",
              "                       n_jobs=None, oob_score=False, random_state=0, verbose=0,\n",
              "                       warm_start=False)"
            ]
          },
          "metadata": {
            "tags": []
          },
          "execution_count": 20
        }
      ]
    },
    {
      "cell_type": "code",
      "metadata": {
        "id": "7OclKgvxdRz-",
        "colab_type": "code",
        "colab": {}
      },
      "source": [
        "y_pred = classifier.predict(X_val)"
      ],
      "execution_count": 21,
      "outputs": []
    },
    {
      "cell_type": "code",
      "metadata": {
        "id": "kUSB5snkdTsw",
        "colab_type": "code",
        "colab": {}
      },
      "source": [
        "from sklearn.metrics import confusion_matrix\n",
        "cm = confusion_matrix(y_pred, y_val)"
      ],
      "execution_count": 22,
      "outputs": []
    },
    {
      "cell_type": "code",
      "metadata": {
        "id": "f0byhK34dVVa",
        "colab_type": "code",
        "colab": {}
      },
      "source": [
        "from sklearn.metrics import accuracy_score\n",
        "accuracy = accuracy_score(y_val, y_pred)"
      ],
      "execution_count": 23,
      "outputs": []
    },
    {
      "cell_type": "code",
      "metadata": {
        "id": "ACBXXbn7IQqI",
        "colab_type": "code",
        "colab": {
          "base_uri": "https://localhost:8080/",
          "height": 390
        },
        "outputId": "e23622f0-a744-4f80-f9b5-89e134ecbfee"
      },
      "source": [
        "pd.DataFrame(cm)"
      ],
      "execution_count": 25,
      "outputs": [
        {
          "output_type": "execute_result",
          "data": {
            "text/html": [
              "<div>\n",
              "<style scoped>\n",
              "    .dataframe tbody tr th:only-of-type {\n",
              "        vertical-align: middle;\n",
              "    }\n",
              "\n",
              "    .dataframe tbody tr th {\n",
              "        vertical-align: top;\n",
              "    }\n",
              "\n",
              "    .dataframe thead th {\n",
              "        text-align: right;\n",
              "    }\n",
              "</style>\n",
              "<table border=\"1\" class=\"dataframe\">\n",
              "  <thead>\n",
              "    <tr style=\"text-align: right;\">\n",
              "      <th></th>\n",
              "      <th>0</th>\n",
              "      <th>1</th>\n",
              "      <th>2</th>\n",
              "      <th>3</th>\n",
              "      <th>4</th>\n",
              "      <th>5</th>\n",
              "      <th>6</th>\n",
              "      <th>7</th>\n",
              "      <th>8</th>\n",
              "      <th>9</th>\n",
              "      <th>10</th>\n",
              "    </tr>\n",
              "  </thead>\n",
              "  <tbody>\n",
              "    <tr>\n",
              "      <th>0</th>\n",
              "      <td>0</td>\n",
              "      <td>0</td>\n",
              "      <td>0</td>\n",
              "      <td>0</td>\n",
              "      <td>0</td>\n",
              "      <td>1</td>\n",
              "      <td>0</td>\n",
              "      <td>0</td>\n",
              "      <td>0</td>\n",
              "      <td>0</td>\n",
              "      <td>0</td>\n",
              "    </tr>\n",
              "    <tr>\n",
              "      <th>1</th>\n",
              "      <td>0</td>\n",
              "      <td>0</td>\n",
              "      <td>0</td>\n",
              "      <td>0</td>\n",
              "      <td>0</td>\n",
              "      <td>0</td>\n",
              "      <td>0</td>\n",
              "      <td>0</td>\n",
              "      <td>0</td>\n",
              "      <td>0</td>\n",
              "      <td>0</td>\n",
              "    </tr>\n",
              "    <tr>\n",
              "      <th>2</th>\n",
              "      <td>0</td>\n",
              "      <td>1</td>\n",
              "      <td>24</td>\n",
              "      <td>4</td>\n",
              "      <td>13</td>\n",
              "      <td>0</td>\n",
              "      <td>3</td>\n",
              "      <td>0</td>\n",
              "      <td>0</td>\n",
              "      <td>0</td>\n",
              "      <td>0</td>\n",
              "    </tr>\n",
              "    <tr>\n",
              "      <th>3</th>\n",
              "      <td>8</td>\n",
              "      <td>0</td>\n",
              "      <td>27</td>\n",
              "      <td>357</td>\n",
              "      <td>106</td>\n",
              "      <td>0</td>\n",
              "      <td>55</td>\n",
              "      <td>0</td>\n",
              "      <td>0</td>\n",
              "      <td>0</td>\n",
              "      <td>13</td>\n",
              "    </tr>\n",
              "    <tr>\n",
              "      <th>4</th>\n",
              "      <td>50</td>\n",
              "      <td>1</td>\n",
              "      <td>148</td>\n",
              "      <td>234</td>\n",
              "      <td>701</td>\n",
              "      <td>2</td>\n",
              "      <td>131</td>\n",
              "      <td>4</td>\n",
              "      <td>5</td>\n",
              "      <td>1</td>\n",
              "      <td>63</td>\n",
              "    </tr>\n",
              "    <tr>\n",
              "      <th>5</th>\n",
              "      <td>0</td>\n",
              "      <td>0</td>\n",
              "      <td>0</td>\n",
              "      <td>0</td>\n",
              "      <td>0</td>\n",
              "      <td>0</td>\n",
              "      <td>0</td>\n",
              "      <td>0</td>\n",
              "      <td>0</td>\n",
              "      <td>0</td>\n",
              "      <td>0</td>\n",
              "    </tr>\n",
              "    <tr>\n",
              "      <th>6</th>\n",
              "      <td>1</td>\n",
              "      <td>0</td>\n",
              "      <td>0</td>\n",
              "      <td>3</td>\n",
              "      <td>3</td>\n",
              "      <td>0</td>\n",
              "      <td>10</td>\n",
              "      <td>0</td>\n",
              "      <td>0</td>\n",
              "      <td>0</td>\n",
              "      <td>0</td>\n",
              "    </tr>\n",
              "    <tr>\n",
              "      <th>7</th>\n",
              "      <td>0</td>\n",
              "      <td>0</td>\n",
              "      <td>0</td>\n",
              "      <td>0</td>\n",
              "      <td>0</td>\n",
              "      <td>0</td>\n",
              "      <td>0</td>\n",
              "      <td>3</td>\n",
              "      <td>0</td>\n",
              "      <td>0</td>\n",
              "      <td>0</td>\n",
              "    </tr>\n",
              "    <tr>\n",
              "      <th>8</th>\n",
              "      <td>0</td>\n",
              "      <td>0</td>\n",
              "      <td>0</td>\n",
              "      <td>0</td>\n",
              "      <td>0</td>\n",
              "      <td>0</td>\n",
              "      <td>0</td>\n",
              "      <td>0</td>\n",
              "      <td>0</td>\n",
              "      <td>0</td>\n",
              "      <td>0</td>\n",
              "    </tr>\n",
              "    <tr>\n",
              "      <th>9</th>\n",
              "      <td>0</td>\n",
              "      <td>0</td>\n",
              "      <td>0</td>\n",
              "      <td>0</td>\n",
              "      <td>0</td>\n",
              "      <td>0</td>\n",
              "      <td>0</td>\n",
              "      <td>0</td>\n",
              "      <td>0</td>\n",
              "      <td>0</td>\n",
              "      <td>0</td>\n",
              "    </tr>\n",
              "    <tr>\n",
              "      <th>10</th>\n",
              "      <td>0</td>\n",
              "      <td>0</td>\n",
              "      <td>0</td>\n",
              "      <td>0</td>\n",
              "      <td>4</td>\n",
              "      <td>0</td>\n",
              "      <td>0</td>\n",
              "      <td>0</td>\n",
              "      <td>0</td>\n",
              "      <td>0</td>\n",
              "      <td>6</td>\n",
              "    </tr>\n",
              "  </tbody>\n",
              "</table>\n",
              "</div>"
            ],
            "text/plain": [
              "     0  1    2    3    4  5    6  7  8  9  10\n",
              "0    0  0    0    0    0  1    0  0  0  0   0\n",
              "1    0  0    0    0    0  0    0  0  0  0   0\n",
              "2    0  1   24    4   13  0    3  0  0  0   0\n",
              "3    8  0   27  357  106  0   55  0  0  0  13\n",
              "4   50  1  148  234  701  2  131  4  5  1  63\n",
              "5    0  0    0    0    0  0    0  0  0  0   0\n",
              "6    1  0    0    3    3  0   10  0  0  0   0\n",
              "7    0  0    0    0    0  0    0  3  0  0   0\n",
              "8    0  0    0    0    0  0    0  0  0  0   0\n",
              "9    0  0    0    0    0  0    0  0  0  0   0\n",
              "10   0  0    0    0    4  0    0  0  0  0   6"
            ]
          },
          "metadata": {
            "tags": []
          },
          "execution_count": 25
        }
      ]
    },
    {
      "cell_type": "code",
      "metadata": {
        "id": "7UcBByEiIMv0",
        "colab_type": "code",
        "colab": {
          "base_uri": "https://localhost:8080/",
          "height": 34
        },
        "outputId": "9cbb04ec-c08a-46e4-a153-3016d998a957"
      },
      "source": [
        "accuracy"
      ],
      "execution_count": 24,
      "outputs": [
        {
          "output_type": "execute_result",
          "data": {
            "text/plain": [
              "0.5554994954591322"
            ]
          },
          "metadata": {
            "tags": []
          },
          "execution_count": 24
        }
      ]
    },
    {
      "cell_type": "markdown",
      "metadata": {
        "id": "zmx5s9BcdWMN",
        "colab_type": "text"
      },
      "source": [
        "## ANN"
      ]
    },
    {
      "cell_type": "code",
      "metadata": {
        "id": "AM7k6F72davu",
        "colab_type": "code",
        "colab": {
          "base_uri": "https://localhost:8080/",
          "height": 1000
        },
        "outputId": "af3cd6e2-4415-410e-a300-0a3f4ce7cca1"
      },
      "source": [
        "model = Sequential()\n",
        "model.add(Dense(units=32, activation='relu', input_shape=(X_train.shape[1], )))\n",
        "model.add(Dropout(0.2))\n",
        "model.add(Dense(units=64, activation='relu'))\n",
        "model.add(Dropout(0.2))\n",
        "model.add(Dense(units=128, activation='relu'))\n",
        "model.add(Dropout(0.2))\n",
        "model.add(Dense(units=324, activation='relu'))\n",
        "model.add(Dropout(0.2))\n",
        "model.add(Dense(units=12, activation='softmax'))\n",
        "\n",
        "model.compile(optimizer=Adam(learning_rate = 0.001), loss='sparse_categorical_crossentropy', metrics=['accuracy'])\n",
        "\n",
        "history = model.fit(X_train, y_train, epochs = 50, validation_data= (X_val, y_val), verbose=1)"
      ],
      "execution_count": 26,
      "outputs": [
        {
          "output_type": "stream",
          "text": [
            "Epoch 1/50\n",
            "248/248 [==============================] - 1s 5ms/step - loss: 1.5042 - accuracy: 0.4145 - val_loss: 1.3872 - val_accuracy: 0.4541\n",
            "Epoch 2/50\n",
            "248/248 [==============================] - 1s 4ms/step - loss: 1.4035 - accuracy: 0.4483 - val_loss: 1.3801 - val_accuracy: 0.4657\n",
            "Epoch 3/50\n",
            "248/248 [==============================] - 1s 4ms/step - loss: 1.3769 - accuracy: 0.4552 - val_loss: 1.3519 - val_accuracy: 0.4576\n",
            "Epoch 4/50\n",
            "248/248 [==============================] - 1s 4ms/step - loss: 1.3574 - accuracy: 0.4638 - val_loss: 1.3460 - val_accuracy: 0.4717\n",
            "Epoch 5/50\n",
            "248/248 [==============================] - 1s 4ms/step - loss: 1.3468 - accuracy: 0.4676 - val_loss: 1.3487 - val_accuracy: 0.4637\n",
            "Epoch 6/50\n",
            "248/248 [==============================] - 1s 4ms/step - loss: 1.3264 - accuracy: 0.4767 - val_loss: 1.3453 - val_accuracy: 0.4657\n",
            "Epoch 7/50\n",
            "248/248 [==============================] - 1s 4ms/step - loss: 1.3207 - accuracy: 0.4774 - val_loss: 1.3383 - val_accuracy: 0.4697\n",
            "Epoch 8/50\n",
            "248/248 [==============================] - 1s 4ms/step - loss: 1.3060 - accuracy: 0.4842 - val_loss: 1.3246 - val_accuracy: 0.4652\n",
            "Epoch 9/50\n",
            "248/248 [==============================] - 1s 4ms/step - loss: 1.3062 - accuracy: 0.4833 - val_loss: 1.3144 - val_accuracy: 0.4844\n",
            "Epoch 10/50\n",
            "248/248 [==============================] - 1s 4ms/step - loss: 1.2934 - accuracy: 0.4844 - val_loss: 1.3187 - val_accuracy: 0.4783\n",
            "Epoch 11/50\n",
            "248/248 [==============================] - 1s 4ms/step - loss: 1.2872 - accuracy: 0.4857 - val_loss: 1.2934 - val_accuracy: 0.4859\n",
            "Epoch 12/50\n",
            "248/248 [==============================] - 1s 4ms/step - loss: 1.2739 - accuracy: 0.4889 - val_loss: 1.2955 - val_accuracy: 0.4864\n",
            "Epoch 13/50\n",
            "248/248 [==============================] - 1s 4ms/step - loss: 1.2694 - accuracy: 0.4898 - val_loss: 1.2958 - val_accuracy: 0.4874\n",
            "Epoch 14/50\n",
            "248/248 [==============================] - 1s 4ms/step - loss: 1.2689 - accuracy: 0.4910 - val_loss: 1.3056 - val_accuracy: 0.4864\n",
            "Epoch 15/50\n",
            "248/248 [==============================] - 1s 4ms/step - loss: 1.2562 - accuracy: 0.4958 - val_loss: 1.2860 - val_accuracy: 0.4844\n",
            "Epoch 16/50\n",
            "248/248 [==============================] - 1s 4ms/step - loss: 1.2504 - accuracy: 0.4976 - val_loss: 1.2911 - val_accuracy: 0.4778\n",
            "Epoch 17/50\n",
            "248/248 [==============================] - 1s 4ms/step - loss: 1.2456 - accuracy: 0.5009 - val_loss: 1.2865 - val_accuracy: 0.4828\n",
            "Epoch 18/50\n",
            "248/248 [==============================] - 1s 4ms/step - loss: 1.2428 - accuracy: 0.4985 - val_loss: 1.3022 - val_accuracy: 0.4763\n",
            "Epoch 19/50\n",
            "248/248 [==============================] - 1s 4ms/step - loss: 1.2258 - accuracy: 0.5072 - val_loss: 1.2803 - val_accuracy: 0.4828\n",
            "Epoch 20/50\n",
            "248/248 [==============================] - 1s 4ms/step - loss: 1.2260 - accuracy: 0.5037 - val_loss: 1.2845 - val_accuracy: 0.4894\n",
            "Epoch 21/50\n",
            "248/248 [==============================] - 1s 4ms/step - loss: 1.2235 - accuracy: 0.5048 - val_loss: 1.2961 - val_accuracy: 0.4864\n",
            "Epoch 22/50\n",
            "248/248 [==============================] - 1s 4ms/step - loss: 1.2131 - accuracy: 0.5083 - val_loss: 1.2863 - val_accuracy: 0.4859\n",
            "Epoch 23/50\n",
            "248/248 [==============================] - 1s 4ms/step - loss: 1.2110 - accuracy: 0.5091 - val_loss: 1.2890 - val_accuracy: 0.4985\n",
            "Epoch 24/50\n",
            "248/248 [==============================] - 1s 4ms/step - loss: 1.2030 - accuracy: 0.5207 - val_loss: 1.2835 - val_accuracy: 0.4950\n",
            "Epoch 25/50\n",
            "248/248 [==============================] - 1s 4ms/step - loss: 1.1859 - accuracy: 0.5218 - val_loss: 1.2837 - val_accuracy: 0.4904\n",
            "Epoch 26/50\n",
            "248/248 [==============================] - 1s 4ms/step - loss: 1.1943 - accuracy: 0.5189 - val_loss: 1.2728 - val_accuracy: 0.4909\n",
            "Epoch 27/50\n",
            "248/248 [==============================] - 1s 4ms/step - loss: 1.1881 - accuracy: 0.5231 - val_loss: 1.2833 - val_accuracy: 0.5010\n",
            "Epoch 28/50\n",
            "248/248 [==============================] - 1s 4ms/step - loss: 1.1937 - accuracy: 0.5213 - val_loss: 1.2895 - val_accuracy: 0.4803\n",
            "Epoch 29/50\n",
            "248/248 [==============================] - 1s 4ms/step - loss: 1.1754 - accuracy: 0.5222 - val_loss: 1.2914 - val_accuracy: 0.4970\n",
            "Epoch 30/50\n",
            "248/248 [==============================] - 1s 4ms/step - loss: 1.1772 - accuracy: 0.5308 - val_loss: 1.2837 - val_accuracy: 0.4950\n",
            "Epoch 31/50\n",
            "248/248 [==============================] - 1s 4ms/step - loss: 1.1744 - accuracy: 0.5283 - val_loss: 1.2866 - val_accuracy: 0.4899\n",
            "Epoch 32/50\n",
            "248/248 [==============================] - 1s 4ms/step - loss: 1.1660 - accuracy: 0.5267 - val_loss: 1.2843 - val_accuracy: 0.4894\n",
            "Epoch 33/50\n",
            "248/248 [==============================] - 1s 4ms/step - loss: 1.1606 - accuracy: 0.5327 - val_loss: 1.2941 - val_accuracy: 0.4884\n",
            "Epoch 34/50\n",
            "248/248 [==============================] - 1s 4ms/step - loss: 1.1691 - accuracy: 0.5310 - val_loss: 1.2889 - val_accuracy: 0.4939\n",
            "Epoch 35/50\n",
            "248/248 [==============================] - 1s 4ms/step - loss: 1.1569 - accuracy: 0.5339 - val_loss: 1.2944 - val_accuracy: 0.4965\n",
            "Epoch 36/50\n",
            "248/248 [==============================] - 1s 4ms/step - loss: 1.1569 - accuracy: 0.5343 - val_loss: 1.2927 - val_accuracy: 0.4859\n",
            "Epoch 37/50\n",
            "248/248 [==============================] - 1s 4ms/step - loss: 1.1459 - accuracy: 0.5386 - val_loss: 1.2872 - val_accuracy: 0.4884\n",
            "Epoch 38/50\n",
            "248/248 [==============================] - 1s 4ms/step - loss: 1.1460 - accuracy: 0.5396 - val_loss: 1.2886 - val_accuracy: 0.4980\n",
            "Epoch 39/50\n",
            "248/248 [==============================] - 1s 4ms/step - loss: 1.1453 - accuracy: 0.5315 - val_loss: 1.2829 - val_accuracy: 0.4990\n",
            "Epoch 40/50\n",
            "248/248 [==============================] - 1s 4ms/step - loss: 1.1441 - accuracy: 0.5356 - val_loss: 1.2894 - val_accuracy: 0.4894\n",
            "Epoch 41/50\n",
            "248/248 [==============================] - 1s 4ms/step - loss: 1.1313 - accuracy: 0.5449 - val_loss: 1.2916 - val_accuracy: 0.4939\n",
            "Epoch 42/50\n",
            "248/248 [==============================] - 1s 4ms/step - loss: 1.1392 - accuracy: 0.5415 - val_loss: 1.2974 - val_accuracy: 0.4864\n",
            "Epoch 43/50\n",
            "248/248 [==============================] - 1s 4ms/step - loss: 1.1310 - accuracy: 0.5487 - val_loss: 1.2894 - val_accuracy: 0.4823\n",
            "Epoch 44/50\n",
            "248/248 [==============================] - 1s 4ms/step - loss: 1.1285 - accuracy: 0.5477 - val_loss: 1.2776 - val_accuracy: 0.4909\n",
            "Epoch 45/50\n",
            "248/248 [==============================] - 1s 4ms/step - loss: 1.1189 - accuracy: 0.5534 - val_loss: 1.2916 - val_accuracy: 0.4844\n",
            "Epoch 46/50\n",
            "248/248 [==============================] - 1s 4ms/step - loss: 1.1144 - accuracy: 0.5498 - val_loss: 1.2863 - val_accuracy: 0.4924\n",
            "Epoch 47/50\n",
            "248/248 [==============================] - 1s 4ms/step - loss: 1.1177 - accuracy: 0.5541 - val_loss: 1.2839 - val_accuracy: 0.4990\n",
            "Epoch 48/50\n",
            "248/248 [==============================] - 1s 4ms/step - loss: 1.1240 - accuracy: 0.5486 - val_loss: 1.2720 - val_accuracy: 0.5015\n",
            "Epoch 49/50\n",
            "248/248 [==============================] - 1s 4ms/step - loss: 1.1131 - accuracy: 0.5508 - val_loss: 1.2787 - val_accuracy: 0.4970\n",
            "Epoch 50/50\n",
            "248/248 [==============================] - 1s 4ms/step - loss: 1.1054 - accuracy: 0.5513 - val_loss: 1.2991 - val_accuracy: 0.4753\n"
          ],
          "name": "stdout"
        }
      ]
    },
    {
      "cell_type": "markdown",
      "metadata": {
        "id": "DvNc9y67dhdZ",
        "colab_type": "text"
      },
      "source": [
        "## CNN"
      ]
    },
    {
      "cell_type": "code",
      "metadata": {
        "id": "4vYz58XDdioT",
        "colab_type": "code",
        "colab": {}
      },
      "source": [
        "X_train = X_train.reshape(-1, 251, 1, 1)\n",
        "X_val = X_val.reshape(-1, 251, 1, 1)\n"
      ],
      "execution_count": 27,
      "outputs": []
    },
    {
      "cell_type": "code",
      "metadata": {
        "id": "LyoDQ8fadkoa",
        "colab_type": "code",
        "colab": {}
      },
      "source": [
        "model = Sequential()\n",
        "\n",
        "model.add(Conv2D(16, (2, 2), activation = 'relu', padding = 'same', input_shape = X_train[0].shape))\n",
        "model.add(Dropout(0.1))\n",
        "model.add(Conv2D(32, (2, 2), activation='relu', padding= 'same'))\n",
        "model.add(Dropout(0.2))\n",
        "#model.add(Conv2D(64, (2, 2), activation='relu', padding='same'))\n",
        "#model.add(Dropout(0.2))\n",
        "model.add(Flatten())\n",
        "#model.add(Dense(128, activation = 'relu'))\n",
        "#model.add(Dropout(0.2))\n",
        "model.add(Dense(64, activation = 'relu'))\n",
        "model.add(Dropout(0.5))\n",
        "model.add(Dense(12, activation='softmax'))"
      ],
      "execution_count": 28,
      "outputs": []
    },
    {
      "cell_type": "code",
      "metadata": {
        "id": "Kqrc4odwdmwb",
        "colab_type": "code",
        "colab": {
          "base_uri": "https://localhost:8080/",
          "height": 1000
        },
        "outputId": "276a9d6c-cf7c-41d0-9d1b-05588df11816"
      },
      "source": [
        "model.compile(optimizer=Adam(learning_rate = 0.001), loss = 'sparse_categorical_crossentropy', metrics = ['accuracy'])\n",
        "history = model.fit(X_train, y_train, epochs = 50, validation_data= (X_val, y_val), verbose=1)"
      ],
      "execution_count": 29,
      "outputs": [
        {
          "output_type": "stream",
          "text": [
            "Epoch 1/50\n",
            "248/248 [==============================] - 2s 7ms/step - loss: 1.5594 - accuracy: 0.4225 - val_loss: 1.3556 - val_accuracy: 0.4642\n",
            "Epoch 2/50\n",
            "248/248 [==============================] - 1s 5ms/step - loss: 1.4063 - accuracy: 0.4519 - val_loss: 1.3432 - val_accuracy: 0.4728\n",
            "Epoch 3/50\n",
            "248/248 [==============================] - 1s 5ms/step - loss: 1.3549 - accuracy: 0.4702 - val_loss: 1.3096 - val_accuracy: 0.4798\n",
            "Epoch 4/50\n",
            "248/248 [==============================] - 2s 6ms/step - loss: 1.3212 - accuracy: 0.4854 - val_loss: 1.2949 - val_accuracy: 0.4889\n",
            "Epoch 5/50\n",
            "248/248 [==============================] - 1s 6ms/step - loss: 1.3100 - accuracy: 0.4891 - val_loss: 1.2828 - val_accuracy: 0.4879\n",
            "Epoch 6/50\n",
            "248/248 [==============================] - 1s 6ms/step - loss: 1.2844 - accuracy: 0.4936 - val_loss: 1.2851 - val_accuracy: 0.4995\n",
            "Epoch 7/50\n",
            "248/248 [==============================] - 1s 6ms/step - loss: 1.2651 - accuracy: 0.4980 - val_loss: 1.2778 - val_accuracy: 0.4970\n",
            "Epoch 8/50\n",
            "248/248 [==============================] - 1s 6ms/step - loss: 1.2439 - accuracy: 0.5047 - val_loss: 1.2645 - val_accuracy: 0.5066\n",
            "Epoch 9/50\n",
            "248/248 [==============================] - 1s 6ms/step - loss: 1.2268 - accuracy: 0.5085 - val_loss: 1.2760 - val_accuracy: 0.5045\n",
            "Epoch 10/50\n",
            "248/248 [==============================] - 1s 6ms/step - loss: 1.2152 - accuracy: 0.5097 - val_loss: 1.2707 - val_accuracy: 0.5116\n",
            "Epoch 11/50\n",
            "248/248 [==============================] - 1s 6ms/step - loss: 1.1939 - accuracy: 0.5201 - val_loss: 1.2597 - val_accuracy: 0.5086\n",
            "Epoch 12/50\n",
            "248/248 [==============================] - 1s 6ms/step - loss: 1.1743 - accuracy: 0.5209 - val_loss: 1.2741 - val_accuracy: 0.5071\n",
            "Epoch 13/50\n",
            "248/248 [==============================] - 1s 6ms/step - loss: 1.1628 - accuracy: 0.5270 - val_loss: 1.2693 - val_accuracy: 0.5156\n",
            "Epoch 14/50\n",
            "248/248 [==============================] - 1s 6ms/step - loss: 1.1405 - accuracy: 0.5373 - val_loss: 1.2789 - val_accuracy: 0.5106\n",
            "Epoch 15/50\n",
            "248/248 [==============================] - 1s 6ms/step - loss: 1.1199 - accuracy: 0.5414 - val_loss: 1.2773 - val_accuracy: 0.5156\n",
            "Epoch 16/50\n",
            "248/248 [==============================] - 1s 6ms/step - loss: 1.1156 - accuracy: 0.5440 - val_loss: 1.2752 - val_accuracy: 0.5237\n",
            "Epoch 17/50\n",
            "248/248 [==============================] - 1s 6ms/step - loss: 1.0950 - accuracy: 0.5426 - val_loss: 1.2829 - val_accuracy: 0.5121\n",
            "Epoch 18/50\n",
            "248/248 [==============================] - 1s 6ms/step - loss: 1.0821 - accuracy: 0.5582 - val_loss: 1.3164 - val_accuracy: 0.5303\n",
            "Epoch 19/50\n",
            "248/248 [==============================] - 1s 6ms/step - loss: 1.0742 - accuracy: 0.5540 - val_loss: 1.2884 - val_accuracy: 0.5202\n",
            "Epoch 20/50\n",
            "248/248 [==============================] - 1s 6ms/step - loss: 1.0609 - accuracy: 0.5648 - val_loss: 1.3379 - val_accuracy: 0.5121\n",
            "Epoch 21/50\n",
            "248/248 [==============================] - 1s 6ms/step - loss: 1.0380 - accuracy: 0.5683 - val_loss: 1.3328 - val_accuracy: 0.5172\n",
            "Epoch 22/50\n",
            "248/248 [==============================] - 1s 6ms/step - loss: 1.0226 - accuracy: 0.5718 - val_loss: 1.3087 - val_accuracy: 0.5030\n",
            "Epoch 23/50\n",
            "248/248 [==============================] - 1s 6ms/step - loss: 1.0253 - accuracy: 0.5654 - val_loss: 1.3758 - val_accuracy: 0.5116\n",
            "Epoch 24/50\n",
            "248/248 [==============================] - 1s 6ms/step - loss: 1.0165 - accuracy: 0.5768 - val_loss: 1.3526 - val_accuracy: 0.5161\n",
            "Epoch 25/50\n",
            "248/248 [==============================] - 1s 6ms/step - loss: 0.9961 - accuracy: 0.5778 - val_loss: 1.3629 - val_accuracy: 0.5055\n",
            "Epoch 26/50\n",
            "248/248 [==============================] - 1s 6ms/step - loss: 0.9898 - accuracy: 0.5840 - val_loss: 1.3614 - val_accuracy: 0.5212\n",
            "Epoch 27/50\n",
            "248/248 [==============================] - 1s 6ms/step - loss: 0.9725 - accuracy: 0.5920 - val_loss: 1.4003 - val_accuracy: 0.5197\n",
            "Epoch 28/50\n",
            "248/248 [==============================] - 1s 6ms/step - loss: 0.9530 - accuracy: 0.5936 - val_loss: 1.4175 - val_accuracy: 0.5050\n",
            "Epoch 29/50\n",
            "248/248 [==============================] - 1s 6ms/step - loss: 0.9540 - accuracy: 0.5887 - val_loss: 1.4205 - val_accuracy: 0.5247\n",
            "Epoch 30/50\n",
            "248/248 [==============================] - 1s 6ms/step - loss: 0.9433 - accuracy: 0.6007 - val_loss: 1.4334 - val_accuracy: 0.5111\n",
            "Epoch 31/50\n",
            "248/248 [==============================] - 1s 6ms/step - loss: 0.9327 - accuracy: 0.6037 - val_loss: 1.4085 - val_accuracy: 0.5156\n",
            "Epoch 32/50\n",
            "248/248 [==============================] - 1s 6ms/step - loss: 0.9131 - accuracy: 0.6130 - val_loss: 1.4756 - val_accuracy: 0.5212\n",
            "Epoch 33/50\n",
            "248/248 [==============================] - 1s 6ms/step - loss: 0.8893 - accuracy: 0.6300 - val_loss: 1.4794 - val_accuracy: 0.5232\n",
            "Epoch 34/50\n",
            "248/248 [==============================] - 1s 6ms/step - loss: 0.8917 - accuracy: 0.6212 - val_loss: 1.4506 - val_accuracy: 0.5091\n",
            "Epoch 35/50\n",
            "248/248 [==============================] - 1s 6ms/step - loss: 0.8858 - accuracy: 0.6221 - val_loss: 1.5320 - val_accuracy: 0.5141\n",
            "Epoch 36/50\n",
            "248/248 [==============================] - 1s 6ms/step - loss: 0.8789 - accuracy: 0.6214 - val_loss: 1.5491 - val_accuracy: 0.5106\n",
            "Epoch 37/50\n",
            "248/248 [==============================] - 1s 6ms/step - loss: 0.8640 - accuracy: 0.6332 - val_loss: 1.5291 - val_accuracy: 0.5116\n",
            "Epoch 38/50\n",
            "248/248 [==============================] - 1s 6ms/step - loss: 0.8631 - accuracy: 0.6277 - val_loss: 1.5729 - val_accuracy: 0.5192\n",
            "Epoch 39/50\n",
            "248/248 [==============================] - 1s 6ms/step - loss: 0.8447 - accuracy: 0.6354 - val_loss: 1.5826 - val_accuracy: 0.5121\n",
            "Epoch 40/50\n",
            "248/248 [==============================] - 1s 6ms/step - loss: 0.8425 - accuracy: 0.6437 - val_loss: 1.5320 - val_accuracy: 0.5187\n",
            "Epoch 41/50\n",
            "248/248 [==============================] - 1s 6ms/step - loss: 0.8385 - accuracy: 0.6409 - val_loss: 1.5743 - val_accuracy: 0.5096\n",
            "Epoch 42/50\n",
            "248/248 [==============================] - 1s 6ms/step - loss: 0.8316 - accuracy: 0.6464 - val_loss: 1.5351 - val_accuracy: 0.5141\n",
            "Epoch 43/50\n",
            "248/248 [==============================] - 1s 6ms/step - loss: 0.8134 - accuracy: 0.6520 - val_loss: 1.6369 - val_accuracy: 0.5151\n",
            "Epoch 44/50\n",
            "248/248 [==============================] - 1s 6ms/step - loss: 0.8220 - accuracy: 0.6457 - val_loss: 1.6395 - val_accuracy: 0.5076\n",
            "Epoch 45/50\n",
            "248/248 [==============================] - 1s 6ms/step - loss: 0.8126 - accuracy: 0.6491 - val_loss: 1.6319 - val_accuracy: 0.5131\n",
            "Epoch 46/50\n",
            "248/248 [==============================] - 1s 6ms/step - loss: 0.8051 - accuracy: 0.6566 - val_loss: 1.7378 - val_accuracy: 0.5197\n",
            "Epoch 47/50\n",
            "248/248 [==============================] - 1s 6ms/step - loss: 0.8036 - accuracy: 0.6578 - val_loss: 1.6355 - val_accuracy: 0.5121\n",
            "Epoch 48/50\n",
            "248/248 [==============================] - 1s 6ms/step - loss: 0.7875 - accuracy: 0.6653 - val_loss: 1.6493 - val_accuracy: 0.5076\n",
            "Epoch 49/50\n",
            "248/248 [==============================] - 1s 6ms/step - loss: 0.7876 - accuracy: 0.6619 - val_loss: 1.7244 - val_accuracy: 0.5217\n",
            "Epoch 50/50\n",
            "248/248 [==============================] - 1s 6ms/step - loss: 0.7879 - accuracy: 0.6559 - val_loss: 1.6899 - val_accuracy: 0.5166\n"
          ],
          "name": "stdout"
        }
      ]
    }
  ]
}